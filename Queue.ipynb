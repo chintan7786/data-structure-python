{
 "cells": [
  {
   "cell_type": "markdown",
   "id": "a102e18a-a450-42ce-8d5e-c7ec6c873194",
   "metadata": {},
   "source": [
    "### Queue"
   ]
  },
  {
   "cell_type": "code",
   "execution_count": 2,
   "id": "acec71b6-7829-4a56-b124-722810dcc211",
   "metadata": {},
   "outputs": [
    {
     "name": "stdout",
     "output_type": "stream",
     "text": [
      "1. insert into queue\n",
      "2. delete from queue\n",
      "3. display queue\n",
      "any key to exit\n",
      "Select option: \n"
     ]
    },
    {
     "name": "stdin",
     "output_type": "stream",
     "text": [
      " 1\n"
     ]
    },
    {
     "name": "stdout",
     "output_type": "stream",
     "text": [
      "enter the value to be inserted in queue:\n"
     ]
    },
    {
     "name": "stdin",
     "output_type": "stream",
     "text": [
      " 3\n"
     ]
    },
    {
     "name": "stdout",
     "output_type": "stream",
     "text": [
      "value added successfully!\n",
      "Select option: \n"
     ]
    },
    {
     "name": "stdin",
     "output_type": "stream",
     "text": [
      " 1\n"
     ]
    },
    {
     "name": "stdout",
     "output_type": "stream",
     "text": [
      "enter the value to be inserted in queue:\n"
     ]
    },
    {
     "name": "stdin",
     "output_type": "stream",
     "text": [
      " 4\n"
     ]
    },
    {
     "name": "stdout",
     "output_type": "stream",
     "text": [
      "value added successfully!\n",
      "Select option: \n"
     ]
    },
    {
     "name": "stdin",
     "output_type": "stream",
     "text": [
      " 1\n"
     ]
    },
    {
     "name": "stdout",
     "output_type": "stream",
     "text": [
      "enter the value to be inserted in queue:\n"
     ]
    },
    {
     "name": "stdin",
     "output_type": "stream",
     "text": [
      " 2\n"
     ]
    },
    {
     "name": "stdout",
     "output_type": "stream",
     "text": [
      "value added successfully!\n",
      "Select option: \n"
     ]
    },
    {
     "name": "stdin",
     "output_type": "stream",
     "text": [
      " 3\n"
     ]
    },
    {
     "name": "stdout",
     "output_type": "stream",
     "text": [
      "3  ---  4  ---  2  ---  Select option: \n"
     ]
    },
    {
     "name": "stdin",
     "output_type": "stream",
     "text": [
      " 2\n"
     ]
    },
    {
     "name": "stdout",
     "output_type": "stream",
     "text": [
      "item poped successfully\n",
      "Select option: \n"
     ]
    },
    {
     "name": "stdin",
     "output_type": "stream",
     "text": [
      " 3\n"
     ]
    },
    {
     "name": "stdout",
     "output_type": "stream",
     "text": [
      "4  ---  2  ---  Select option: \n"
     ]
    },
    {
     "name": "stdin",
     "output_type": "stream",
     "text": [
      " 1\n"
     ]
    },
    {
     "name": "stdout",
     "output_type": "stream",
     "text": [
      "enter the value to be inserted in queue:\n"
     ]
    },
    {
     "name": "stdin",
     "output_type": "stream",
     "text": [
      " 6\n"
     ]
    },
    {
     "name": "stdout",
     "output_type": "stream",
     "text": [
      "value added successfully!\n",
      "Select option: \n"
     ]
    },
    {
     "name": "stdin",
     "output_type": "stream",
     "text": [
      " 2\n"
     ]
    },
    {
     "name": "stdout",
     "output_type": "stream",
     "text": [
      "item poped successfully\n",
      "Select option: \n"
     ]
    },
    {
     "name": "stdin",
     "output_type": "stream",
     "text": [
      " 3\n"
     ]
    },
    {
     "name": "stdout",
     "output_type": "stream",
     "text": [
      "2  ---  6  ---  Select option: \n"
     ]
    },
    {
     "name": "stdin",
     "output_type": "stream",
     "text": [
      " v\n"
     ]
    },
    {
     "name": "stdout",
     "output_type": "stream",
     "text": [
      "you have come out successfully\n"
     ]
    }
   ],
   "source": [
    "# using list\n",
    "class Queue:\n",
    "    def __init__(self):\n",
    "        self.queue = []\n",
    "        \n",
    "    def insert(self, x):\n",
    "        self.queue.append(x)\n",
    "        print('value added successfully!')\n",
    "        \n",
    "    def delete(self):\n",
    "        if not self.queue:\n",
    "            print('cannot pop queue is empty')\n",
    "        else:\n",
    "            self.queue.pop(0)\n",
    "            print('deleted successfully!')\n",
    "            \n",
    "    def display(self):\n",
    "        if not self.queue:\n",
    "            print('queue is empty')\n",
    "        else:\n",
    "            for i in self.queue:\n",
    "                print(i, ' --- ',end=' ')\n",
    "            print()\n",
    "    \n",
    "print('1. insert into queue')\n",
    "print('2. delete from queue')\n",
    "print('3. display queue')\n",
    "print('any key to exit')\n",
    "obj = Queue()\n",
    "while True:\n",
    "    print('Select option: ')\n",
    "    n = input()\n",
    "    if n == '1':\n",
    "        print('enter the value to be inserted in queue:')\n",
    "        x = int(input())\n",
    "        obj.insert(x)\n",
    "    elif n == '2':\n",
    "        obj.delete()\n",
    "    elif n == '3':\n",
    "        obj.display()\n",
    "    else:\n",
    "        print('you have come out successfully')\n",
    "        break"
   ]
  },
  {
   "cell_type": "code",
   "execution_count": 3,
   "id": "e5d860d9-959a-43ff-8f81-7b88bca0f3df",
   "metadata": {},
   "outputs": [
    {
     "name": "stdout",
     "output_type": "stream",
     "text": [
      "1. insert into queue\n",
      "2. delete from queue\n",
      "3. display queue\n",
      "any key to exit\n",
      "Select option: \n"
     ]
    },
    {
     "name": "stdin",
     "output_type": "stream",
     "text": [
      " 1\n"
     ]
    },
    {
     "name": "stdout",
     "output_type": "stream",
     "text": [
      "enter the value to be inserted in queue:\n"
     ]
    },
    {
     "name": "stdin",
     "output_type": "stream",
     "text": [
      " 2\n"
     ]
    },
    {
     "name": "stdout",
     "output_type": "stream",
     "text": [
      "value inserted successfully!\n",
      "Select option: \n"
     ]
    },
    {
     "name": "stdin",
     "output_type": "stream",
     "text": [
      " 1\n"
     ]
    },
    {
     "name": "stdout",
     "output_type": "stream",
     "text": [
      "enter the value to be inserted in queue:\n"
     ]
    },
    {
     "name": "stdin",
     "output_type": "stream",
     "text": [
      " 4\n"
     ]
    },
    {
     "name": "stdout",
     "output_type": "stream",
     "text": [
      "value inserted successfully!\n",
      "Select option: \n"
     ]
    },
    {
     "name": "stdin",
     "output_type": "stream",
     "text": [
      " 1\n"
     ]
    },
    {
     "name": "stdout",
     "output_type": "stream",
     "text": [
      "enter the value to be inserted in queue:\n"
     ]
    },
    {
     "name": "stdin",
     "output_type": "stream",
     "text": [
      " 5\n"
     ]
    },
    {
     "name": "stdout",
     "output_type": "stream",
     "text": [
      "value inserted successfully!\n",
      "Select option: \n"
     ]
    },
    {
     "name": "stdin",
     "output_type": "stream",
     "text": [
      " 3\n"
     ]
    },
    {
     "name": "stdout",
     "output_type": "stream",
     "text": [
      "deque([2, 4, 5])\n",
      "Select option: \n"
     ]
    },
    {
     "name": "stdin",
     "output_type": "stream",
     "text": [
      " 2\n"
     ]
    },
    {
     "name": "stdout",
     "output_type": "stream",
     "text": [
      "deleted successfully\n",
      "Select option: \n"
     ]
    },
    {
     "name": "stdin",
     "output_type": "stream",
     "text": [
      " 3\n"
     ]
    },
    {
     "name": "stdout",
     "output_type": "stream",
     "text": [
      "deque([4, 5])\n",
      "Select option: \n"
     ]
    },
    {
     "name": "stdin",
     "output_type": "stream",
     "text": [
      " r\n"
     ]
    },
    {
     "name": "stdout",
     "output_type": "stream",
     "text": [
      "you have come out successfully\n"
     ]
    }
   ],
   "source": [
    "# using module\n",
    "from queue import Queue\n",
    "class QueueClass:\n",
    "    def __init__(self):\n",
    "        self.queue = Queue(maxsize=10)\n",
    "    \n",
    "    def insert(self, x):\n",
    "        self.queue.put(x)\n",
    "        print('value inserted successfully!')\n",
    "        \n",
    "    def delete(self):\n",
    "        if not self.queue:\n",
    "            print('cannot delete items, queue is empty')\n",
    "        else:\n",
    "            self.queue.get()\n",
    "            print('deleted successfully')\n",
    "        \n",
    "    def display(self):\n",
    "        if not self.queue:\n",
    "            print('queue is empty')\n",
    "        else:\n",
    "            print(self.queue.queue)\n",
    "    \n",
    "print('1. insert into queue')\n",
    "print('2. delete from queue')\n",
    "print('3. display queue')\n",
    "print('any key to exit')\n",
    "obj = QueueClass()\n",
    "while True:\n",
    "    print('Select option: ')\n",
    "    n = input()\n",
    "    if n == '1':\n",
    "        print('enter the value to be inserted in queue:')\n",
    "        x = int(input())\n",
    "        obj.insert(x)\n",
    "    elif n == '2':\n",
    "        obj.delete()\n",
    "    elif n == '3':\n",
    "        obj.display()\n",
    "    else:\n",
    "        print('you have come out successfully')\n",
    "        break"
   ]
  }
 ],
 "metadata": {
  "kernelspec": {
   "display_name": "Python 3",
   "language": "python",
   "name": "python3"
  },
  "language_info": {
   "codemirror_mode": {
    "name": "ipython",
    "version": 3
   },
   "file_extension": ".py",
   "mimetype": "text/x-python",
   "name": "python",
   "nbconvert_exporter": "python",
   "pygments_lexer": "ipython3",
   "version": "3.8.8"
  }
 },
 "nbformat": 4,
 "nbformat_minor": 5
}

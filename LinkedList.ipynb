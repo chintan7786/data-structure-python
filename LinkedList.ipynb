{
 "cells": [
  {
   "cell_type": "markdown",
   "id": "a18d85e2-dce5-4273-9f10-108122ca3721",
   "metadata": {},
   "source": [
    "# Linked List"
   ]
  },
  {
   "cell_type": "markdown",
   "id": "3dec17a4-ff5b-49da-bb65-75fa31fc71ec",
   "metadata": {},
   "source": [
    "### Singly Linked List"
   ]
  },
  {
   "cell_type": "code",
   "execution_count": 6,
   "id": "ab4450cb-e3fd-4686-9d02-88bf8d774129",
   "metadata": {},
   "outputs": [
    {
     "name": "stdout",
     "output_type": "stream",
     "text": [
      "1. Add a Node\n",
      "2. Remove Node\n",
      "3. Display LinkedList\n",
      "any key to exit\n",
      "Select operation to perform: \n"
     ]
    },
    {
     "name": "stdin",
     "output_type": "stream",
     "text": [
      " 1\n"
     ]
    },
    {
     "name": "stdout",
     "output_type": "stream",
     "text": [
      "keep inserting the elements until option is out of range\n",
      "a. at the beggining of linked list\n",
      "b. at the end of linked list\n",
      "c. in between the linked list\n",
      "press any key to come back to main menu\n"
     ]
    },
    {
     "name": "stdin",
     "output_type": "stream",
     "text": [
      " a\n"
     ]
    },
    {
     "name": "stdout",
     "output_type": "stream",
     "text": [
      "Enter the value to be added: \n"
     ]
    },
    {
     "name": "stdin",
     "output_type": "stream",
     "text": [
      " 4\n"
     ]
    },
    {
     "name": "stdout",
     "output_type": "stream",
     "text": [
      "linked list created successfully!\n",
      "a. at the beggining of linked list\n",
      "b. at the end of linked list\n",
      "c. in between the linked list\n",
      "press any key to come back to main menu\n"
     ]
    },
    {
     "name": "stdin",
     "output_type": "stream",
     "text": [
      " a\n"
     ]
    },
    {
     "name": "stdout",
     "output_type": "stream",
     "text": [
      "Enter the value to be added: \n"
     ]
    },
    {
     "name": "stdin",
     "output_type": "stream",
     "text": [
      " 3\n"
     ]
    },
    {
     "name": "stdout",
     "output_type": "stream",
     "text": [
      "3 --> 4 --> \n",
      "Added at START\n",
      "a. at the beggining of linked list\n",
      "b. at the end of linked list\n",
      "c. in between the linked list\n",
      "press any key to come back to main menu\n"
     ]
    },
    {
     "name": "stdin",
     "output_type": "stream",
     "text": [
      " a\n"
     ]
    },
    {
     "name": "stdout",
     "output_type": "stream",
     "text": [
      "Enter the value to be added: \n"
     ]
    },
    {
     "name": "stdin",
     "output_type": "stream",
     "text": [
      " 6\n"
     ]
    },
    {
     "name": "stdout",
     "output_type": "stream",
     "text": [
      "6 --> 3 --> 4 --> \n",
      "Added at START\n",
      "a. at the beggining of linked list\n",
      "b. at the end of linked list\n",
      "c. in between the linked list\n",
      "press any key to come back to main menu\n"
     ]
    },
    {
     "name": "stdin",
     "output_type": "stream",
     "text": [
      " b\n"
     ]
    },
    {
     "name": "stdout",
     "output_type": "stream",
     "text": [
      "Enter the value to be added: \n"
     ]
    },
    {
     "name": "stdin",
     "output_type": "stream",
     "text": [
      " 5\n"
     ]
    },
    {
     "name": "stdout",
     "output_type": "stream",
     "text": [
      "6 --> 3 --> 4 --> 5 --> \n",
      "Added at END\n",
      "a. at the beggining of linked list\n",
      "b. at the end of linked list\n",
      "c. in between the linked list\n",
      "press any key to come back to main menu\n"
     ]
    },
    {
     "name": "stdin",
     "output_type": "stream",
     "text": [
      " c\n"
     ]
    },
    {
     "name": "stdout",
     "output_type": "stream",
     "text": [
      "Enter the value to be added: \n"
     ]
    },
    {
     "name": "stdin",
     "output_type": "stream",
     "text": [
      " 8\n"
     ]
    },
    {
     "name": "stdout",
     "output_type": "stream",
     "text": [
      "6 --> 3 --> 4 --> 5 --> \n",
      "a. add after the Element\n",
      "b. add before the Element\n"
     ]
    },
    {
     "name": "stdin",
     "output_type": "stream",
     "text": [
      " a\n"
     ]
    },
    {
     "name": "stdout",
     "output_type": "stream",
     "text": [
      "Enter element after which you want to add Node: \n"
     ]
    },
    {
     "name": "stdin",
     "output_type": "stream",
     "text": [
      " 3\n"
     ]
    },
    {
     "name": "stdout",
     "output_type": "stream",
     "text": [
      "6 --> 3 --> 8 --> 4 --> 5 --> \n",
      "added after 3 successfully!\n",
      "a. at the beggining of linked list\n",
      "b. at the end of linked list\n",
      "c. in between the linked list\n",
      "press any key to come back to main menu\n"
     ]
    },
    {
     "name": "stdin",
     "output_type": "stream",
     "text": [
      " c\n"
     ]
    },
    {
     "name": "stdout",
     "output_type": "stream",
     "text": [
      "Enter the value to be added: \n"
     ]
    },
    {
     "name": "stdin",
     "output_type": "stream",
     "text": [
      " 7\n"
     ]
    },
    {
     "name": "stdout",
     "output_type": "stream",
     "text": [
      "6 --> 3 --> 8 --> 4 --> 5 --> \n",
      "a. add after the Element\n",
      "b. add before the Element\n"
     ]
    },
    {
     "name": "stdin",
     "output_type": "stream",
     "text": [
      " b\n"
     ]
    },
    {
     "name": "stdout",
     "output_type": "stream",
     "text": [
      "Enter element before which you want to add Node: \n"
     ]
    },
    {
     "name": "stdin",
     "output_type": "stream",
     "text": [
      " 4\n"
     ]
    },
    {
     "name": "stdout",
     "output_type": "stream",
     "text": [
      "6 --> 3 --> 8 --> 7 --> 4 --> 5 --> \n",
      "added before 4 successfully!\n",
      "a. at the beggining of linked list\n",
      "b. at the end of linked list\n",
      "c. in between the linked list\n",
      "press any key to come back to main menu\n"
     ]
    },
    {
     "name": "stdin",
     "output_type": "stream",
     "text": [
      " y\n"
     ]
    },
    {
     "name": "stdout",
     "output_type": "stream",
     "text": [
      "you have come out of secondary loop successfully\n",
      "1. Add a Node\n",
      "2. Remove Node\n",
      "3. Display LinkedList\n",
      "any key to exit\n",
      "Select operation to perform: \n"
     ]
    },
    {
     "name": "stdin",
     "output_type": "stream",
     "text": [
      " 2\n"
     ]
    },
    {
     "name": "stdout",
     "output_type": "stream",
     "text": [
      "keep deleting the elements until option is out of range\n",
      "a. delete first node\n",
      "b. delete last node\n",
      "c. remove specific node\n",
      "press any key to come back to main menu\n"
     ]
    },
    {
     "name": "stdin",
     "output_type": "stream",
     "text": [
      " a\n"
     ]
    },
    {
     "name": "stdout",
     "output_type": "stream",
     "text": [
      "3 --> 8 --> 7 --> 4 --> 5 --> \n",
      "Value deleted from BEGINNING successfully!\n",
      "a. delete first node\n",
      "b. delete last node\n",
      "c. remove specific node\n",
      "press any key to come back to main menu\n"
     ]
    },
    {
     "name": "stdin",
     "output_type": "stream",
     "text": [
      " c\n"
     ]
    },
    {
     "name": "stdout",
     "output_type": "stream",
     "text": [
      "Enter the value to be deleted: \n"
     ]
    },
    {
     "name": "stdin",
     "output_type": "stream",
     "text": [
      " 7\n"
     ]
    },
    {
     "name": "stdout",
     "output_type": "stream",
     "text": [
      "3 --> 8 --> 4 --> 5 --> \n",
      "value deleted successfully\n",
      "a. delete first node\n",
      "b. delete last node\n",
      "c. remove specific node\n",
      "press any key to come back to main menu\n"
     ]
    },
    {
     "name": "stdin",
     "output_type": "stream",
     "text": [
      " c\n"
     ]
    },
    {
     "name": "stdout",
     "output_type": "stream",
     "text": [
      "Enter the value to be deleted: \n"
     ]
    },
    {
     "name": "stdin",
     "output_type": "stream",
     "text": [
      " 5\n"
     ]
    },
    {
     "name": "stdout",
     "output_type": "stream",
     "text": [
      "3 --> 8 --> 4 --> \n",
      "value deleted successfully\n",
      "a. delete first node\n",
      "b. delete last node\n",
      "c. remove specific node\n",
      "press any key to come back to main menu\n"
     ]
    },
    {
     "name": "stdin",
     "output_type": "stream",
     "text": [
      " c\n"
     ]
    },
    {
     "name": "stdout",
     "output_type": "stream",
     "text": [
      "Enter the value to be deleted: \n"
     ]
    },
    {
     "name": "stdin",
     "output_type": "stream",
     "text": [
      " 3\n"
     ]
    },
    {
     "name": "stdout",
     "output_type": "stream",
     "text": [
      "8 --> 4 --> \n",
      "value deleted successfully\n",
      "a. delete first node\n",
      "b. delete last node\n",
      "c. remove specific node\n",
      "press any key to come back to main menu\n"
     ]
    },
    {
     "name": "stdin",
     "output_type": "stream",
     "text": [
      " b\n"
     ]
    },
    {
     "name": "stdout",
     "output_type": "stream",
     "text": [
      "8 --> \n",
      "Value deleted from END successfully!\n",
      "a. delete first node\n",
      "b. delete last node\n",
      "c. remove specific node\n",
      "press any key to come back to main menu\n"
     ]
    },
    {
     "name": "stdin",
     "output_type": "stream",
     "text": [
      " u\n"
     ]
    },
    {
     "name": "stdout",
     "output_type": "stream",
     "text": [
      "you have come out of secondary loop successfully\n",
      "1. Add a Node\n",
      "2. Remove Node\n",
      "3. Display LinkedList\n",
      "any key to exit\n",
      "Select operation to perform: \n"
     ]
    },
    {
     "name": "stdin",
     "output_type": "stream",
     "text": [
      " a\n"
     ]
    },
    {
     "name": "stdout",
     "output_type": "stream",
     "text": [
      "you have come out of primary loop successfully\n"
     ]
    }
   ],
   "source": [
    "# creating new node\n",
    "class Node:\n",
    "    def __init__(self, data):\n",
    "        self.data = data\n",
    "        self.next = None\n",
    "\n",
    "# Main linked list class\n",
    "class SinglyLinkedList:\n",
    "    def __init__(self):\n",
    "        self.head = None\n",
    "        \n",
    "    # displaying the LL\n",
    "    def print_LL(self):\n",
    "        if self.head == None:\n",
    "            print(\"Linked list does not exist\")\n",
    "        else:\n",
    "            n = self.head\n",
    "            while n is not None:\n",
    "                print(n.data,\"-->\",end=\" \")\n",
    "                n = n.next\n",
    "            print()\n",
    "             \n",
    "    # inserting value in LL\n",
    "    def insert_element(self):\n",
    "        while True:\n",
    "            print(\"a. at the beggining of linked list\")\n",
    "            print(\"b. at the end of linked list\")\n",
    "            print(\"c. in between the linked list\")\n",
    "            print(\"press any key to come back to main menu\")\n",
    "            option = input()\n",
    "            if option != 'a' and option != 'b' and option != 'c':\n",
    "                print('you have come out of secondary loop successfully')\n",
    "                return\n",
    "            print(\"Enter the value to be added: \")\n",
    "            value = int(input())\n",
    "            new_node = Node(value)\n",
    "            \n",
    "            # creating the LL\n",
    "            if self.head == None:\n",
    "                self.head = new_node\n",
    "                print('linked list created successfully!')\n",
    "                \n",
    "            # inserting at the beggining\n",
    "            elif option == 'a':\n",
    "                new_node.next = self.head\n",
    "                self.head = new_node\n",
    "                self.print_LL()\n",
    "                print('Added at START')\n",
    "                \n",
    "            # inserting at the end\n",
    "            elif option == 'b':\n",
    "                i = self.head\n",
    "                while i.next is not None:\n",
    "                    i = i.next\n",
    "                i.next = new_node\n",
    "                self.print_LL()\n",
    "                print('Added at END')\n",
    "                \n",
    "            # inserting in between\n",
    "            elif option == 'c':\n",
    "                self.print_LL()\n",
    "                print('a. add after the Element')\n",
    "                print('b. add before the Element')\n",
    "                place = input()\n",
    "                \n",
    "                # inserting after\n",
    "                if place == 'a':\n",
    "                    print('Enter element after which you want to add Node: ')\n",
    "                    element = int(input())\n",
    "                    i = self.head\n",
    "                    while i.next is not None:\n",
    "                        if i.data == element:\n",
    "                            break\n",
    "                        i = i.next\n",
    "                    new_node.next = i.next\n",
    "                    i.next = new_node\n",
    "                    self.print_LL()\n",
    "                    print('added after '+str(element)+' successfully!')\n",
    "                    \n",
    "                # inserting before\n",
    "                elif place == 'b':\n",
    "                    print('Enter element before which you want to add Node: ')\n",
    "                    element = int(input())\n",
    "                    i = self.head\n",
    "                    if i.data == element:\n",
    "                        new_node.next = self.head\n",
    "                        self.head = new_node\n",
    "                    else:\n",
    "                        while i.next is not None:\n",
    "                            if i.next.data == element:\n",
    "                                break\n",
    "                            i = i.next\n",
    "                        new_node.next = i.next\n",
    "                        i.next = new_node\n",
    "                    self.print_LL()\n",
    "                    print('added before '+str(element)+' successfully!')\n",
    "                else:\n",
    "                    print(\"--option out of range--\")\n",
    "                    return\n",
    "            else:\n",
    "                print(\"----\")\n",
    "                return\n",
    "            \n",
    "    # deleting element from LL\n",
    "    def delete_node(self):\n",
    "        while True:\n",
    "            if self.head == None:\n",
    "                print(\"Linked list does not exist\")\n",
    "                return\n",
    "            print(\"a. delete first node\")\n",
    "            print(\"b. delete last node\")\n",
    "            print(\"c. remove specific node\")\n",
    "            print(\"press any key to come back to main menu\")  \n",
    "            option = input()\n",
    "            \n",
    "            # deleting first element\n",
    "            if option == 'a':\n",
    "                self.head = self.head.next\n",
    "                self.print_LL()\n",
    "                print('Value deleted from BEGINNING successfully!')\n",
    "                \n",
    "            # deleting last element\n",
    "            elif option == 'b':\n",
    "                i = self.head\n",
    "                if i.next == None:\n",
    "                    self.head = None\n",
    "                    print(\"LL is now empty\")\n",
    "                    return\n",
    "                while i.next.next != None:\n",
    "                    i = i.next\n",
    "                i.next = None\n",
    "                self.print_LL()\n",
    "                print('Value deleted from END successfully!')\n",
    "                \n",
    "            # deleting user defined element\n",
    "            elif option == 'c':\n",
    "                print(\"Enter the value to be deleted: \")\n",
    "                value = int(input())\n",
    "                i = self.head\n",
    "                if value == i.data:\n",
    "                    self.head = self.head.next\n",
    "                else:\n",
    "                    while i.next is not None:\n",
    "                        if i.next.data == value:\n",
    "                            break\n",
    "                        i = i.next\n",
    "                    if i.next is None:\n",
    "                        print('No node exists as ' + str(value))\n",
    "                    else:\n",
    "                        i.next = i.next.next\n",
    "                self.print_LL()\n",
    "                print('value deleted successfully')\n",
    "            else:\n",
    "                print('you have come out of secondary loop successfully')\n",
    "                return\n",
    "    \n",
    "    \n",
    "obj = SinglyLinkedList()\n",
    "while True:\n",
    "    print('1. Add a Node')\n",
    "    print('2. Remove Node')\n",
    "    print('3. Display LinkedList')\n",
    "    print('any key to exit')\n",
    "    print('Select operation to perform: ')\n",
    "    n = input()\n",
    "    if n == '1':\n",
    "        print('keep inserting the elements until option is out of range')\n",
    "        obj.insert_element()\n",
    "    elif n == '2':\n",
    "        print('keep deleting the elements until option is out of range')\n",
    "        obj.delete_node()\n",
    "    elif n == '3':\n",
    "        obj.print_LL()\n",
    "    else:\n",
    "        print('you have come out of primary loop successfully')\n",
    "        break"
   ]
  },
  {
   "cell_type": "markdown",
   "id": "2f96f898-c3f0-46e8-873b-eb20109abf0c",
   "metadata": {},
   "source": [
    "### Doubly Linked List"
   ]
  },
  {
   "cell_type": "code",
   "execution_count": 18,
   "id": "6a4012ab-2854-4d78-a05e-29e84a67f7b8",
   "metadata": {},
   "outputs": [
    {
     "name": "stdout",
     "output_type": "stream",
     "text": [
      "1. Add a Node\n",
      "2. Remove Node\n",
      "3. Display LinkedList\n",
      "any key to exit\n",
      "Select operation to perform: \n"
     ]
    },
    {
     "name": "stdin",
     "output_type": "stream",
     "text": [
      " 1\n"
     ]
    },
    {
     "name": "stdout",
     "output_type": "stream",
     "text": [
      "keep inserting the elements until option is out of range\n",
      "a. at the beggining of linked list\n",
      "b. at the end of linked list\n",
      "c. in between the linked list\n",
      "press any key to come back to main menu\n"
     ]
    },
    {
     "name": "stdin",
     "output_type": "stream",
     "text": [
      " a\n"
     ]
    },
    {
     "name": "stdout",
     "output_type": "stream",
     "text": [
      "Enter the value to be added: \n"
     ]
    },
    {
     "name": "stdin",
     "output_type": "stream",
     "text": [
      " 7\n"
     ]
    },
    {
     "name": "stdout",
     "output_type": "stream",
     "text": [
      "doubly linked list created successfully!\n",
      "a. at the beggining of linked list\n",
      "b. at the end of linked list\n",
      "c. in between the linked list\n",
      "press any key to come back to main menu\n"
     ]
    },
    {
     "name": "stdin",
     "output_type": "stream",
     "text": [
      " a\n"
     ]
    },
    {
     "name": "stdout",
     "output_type": "stream",
     "text": [
      "Enter the value to be added: \n"
     ]
    },
    {
     "name": "stdin",
     "output_type": "stream",
     "text": [
      " 3\n"
     ]
    },
    {
     "name": "stdout",
     "output_type": "stream",
     "text": [
      "<-- 3 --> <-- 7 --> \n",
      "Added at START\n",
      "a. at the beggining of linked list\n",
      "b. at the end of linked list\n",
      "c. in between the linked list\n",
      "press any key to come back to main menu\n"
     ]
    },
    {
     "name": "stdin",
     "output_type": "stream",
     "text": [
      " a\n"
     ]
    },
    {
     "name": "stdout",
     "output_type": "stream",
     "text": [
      "Enter the value to be added: \n"
     ]
    },
    {
     "name": "stdin",
     "output_type": "stream",
     "text": [
      " 5\n"
     ]
    },
    {
     "name": "stdout",
     "output_type": "stream",
     "text": [
      "<-- 5 --> <-- 3 --> <-- 7 --> \n",
      "Added at START\n",
      "a. at the beggining of linked list\n",
      "b. at the end of linked list\n",
      "c. in between the linked list\n",
      "press any key to come back to main menu\n"
     ]
    },
    {
     "name": "stdin",
     "output_type": "stream",
     "text": [
      " b\n"
     ]
    },
    {
     "name": "stdout",
     "output_type": "stream",
     "text": [
      "Enter the value to be added: \n"
     ]
    },
    {
     "name": "stdin",
     "output_type": "stream",
     "text": [
      " 6\n"
     ]
    },
    {
     "name": "stdout",
     "output_type": "stream",
     "text": [
      "<-- 5 --> <-- 3 --> <-- 7 --> <-- 6 --> \n",
      "Added at END\n",
      "a. at the beggining of linked list\n",
      "b. at the end of linked list\n",
      "c. in between the linked list\n",
      "press any key to come back to main menu\n"
     ]
    },
    {
     "name": "stdin",
     "output_type": "stream",
     "text": [
      " b\n"
     ]
    },
    {
     "name": "stdout",
     "output_type": "stream",
     "text": [
      "Enter the value to be added: \n"
     ]
    },
    {
     "name": "stdin",
     "output_type": "stream",
     "text": [
      " 1\n"
     ]
    },
    {
     "name": "stdout",
     "output_type": "stream",
     "text": [
      "<-- 5 --> <-- 3 --> <-- 7 --> <-- 6 --> <-- 1 --> \n",
      "Added at END\n",
      "a. at the beggining of linked list\n",
      "b. at the end of linked list\n",
      "c. in between the linked list\n",
      "press any key to come back to main menu\n"
     ]
    },
    {
     "name": "stdin",
     "output_type": "stream",
     "text": [
      " c\n"
     ]
    },
    {
     "name": "stdout",
     "output_type": "stream",
     "text": [
      "Enter the value to be added: \n"
     ]
    },
    {
     "name": "stdin",
     "output_type": "stream",
     "text": [
      " 2\n"
     ]
    },
    {
     "name": "stdout",
     "output_type": "stream",
     "text": [
      "<-- 5 --> <-- 3 --> <-- 7 --> <-- 6 --> <-- 1 --> \n",
      "a. add after the Element\n",
      "b. add before the Element\n"
     ]
    },
    {
     "name": "stdin",
     "output_type": "stream",
     "text": [
      " b\n"
     ]
    },
    {
     "name": "stdout",
     "output_type": "stream",
     "text": [
      "Enter element before which you want to add Node: \n"
     ]
    },
    {
     "name": "stdin",
     "output_type": "stream",
     "text": [
      " 7\n"
     ]
    },
    {
     "name": "stdout",
     "output_type": "stream",
     "text": [
      "<-- 5 --> <-- 3 --> <-- 2 --> <-- 7 --> <-- 6 --> <-- 1 --> \n",
      "added before 7 successfully!\n",
      "a. at the beggining of linked list\n",
      "b. at the end of linked list\n",
      "c. in between the linked list\n",
      "press any key to come back to main menu\n"
     ]
    },
    {
     "name": "stdin",
     "output_type": "stream",
     "text": [
      " h\n"
     ]
    },
    {
     "name": "stdout",
     "output_type": "stream",
     "text": [
      "you have come out of secondary loop successfully\n",
      "1. Add a Node\n",
      "2. Remove Node\n",
      "3. Display LinkedList\n",
      "any key to exit\n",
      "Select operation to perform: \n"
     ]
    },
    {
     "name": "stdin",
     "output_type": "stream",
     "text": [
      " 2\n"
     ]
    },
    {
     "name": "stdout",
     "output_type": "stream",
     "text": [
      "keep deleting the elements until option is out of range\n",
      "a. delete first node\n",
      "b. delete last node\n",
      "c. remove specific node\n",
      "press any key to come back to main menu\n"
     ]
    },
    {
     "name": "stdin",
     "output_type": "stream",
     "text": [
      " a\n"
     ]
    },
    {
     "name": "stdout",
     "output_type": "stream",
     "text": [
      "<-- 3 --> <-- 2 --> <-- 7 --> <-- 6 --> <-- 1 --> \n",
      "Value deleted from BEGINNING successfully!\n",
      "a. delete first node\n",
      "b. delete last node\n",
      "c. remove specific node\n",
      "press any key to come back to main menu\n"
     ]
    },
    {
     "name": "stdin",
     "output_type": "stream",
     "text": [
      " b\n"
     ]
    },
    {
     "name": "stdout",
     "output_type": "stream",
     "text": [
      "<-- 3 --> <-- 2 --> <-- 7 --> <-- 6 --> \n",
      "Value deleted from END successfully!\n",
      "a. delete first node\n",
      "b. delete last node\n",
      "c. remove specific node\n",
      "press any key to come back to main menu\n"
     ]
    },
    {
     "name": "stdin",
     "output_type": "stream",
     "text": [
      " c\n"
     ]
    },
    {
     "name": "stdout",
     "output_type": "stream",
     "text": [
      "<-- 3 --> <-- 2 --> <-- 7 --> <-- 6 --> \n",
      "Enter the value to be deleted: \n"
     ]
    },
    {
     "name": "stdin",
     "output_type": "stream",
     "text": [
      " 7\n"
     ]
    },
    {
     "name": "stdout",
     "output_type": "stream",
     "text": [
      "<-- 3 --> <-- 2 --> <-- 6 --> \n",
      "value deleted successfully\n",
      "a. delete first node\n",
      "b. delete last node\n",
      "c. remove specific node\n",
      "press any key to come back to main menu\n"
     ]
    },
    {
     "name": "stdin",
     "output_type": "stream",
     "text": [
      " h\n"
     ]
    },
    {
     "name": "stdout",
     "output_type": "stream",
     "text": [
      "you have come out of secondary loop successfully\n",
      "1. Add a Node\n",
      "2. Remove Node\n",
      "3. Display LinkedList\n",
      "any key to exit\n",
      "Select operation to perform: \n"
     ]
    },
    {
     "name": "stdin",
     "output_type": "stream",
     "text": [
      " 3\n"
     ]
    },
    {
     "name": "stdout",
     "output_type": "stream",
     "text": [
      "<-- 3 --> <-- 2 --> <-- 6 --> \n",
      "1. Add a Node\n",
      "2. Remove Node\n",
      "3. Display LinkedList\n",
      "any key to exit\n",
      "Select operation to perform: \n"
     ]
    },
    {
     "name": "stdin",
     "output_type": "stream",
     "text": [
      " y\n"
     ]
    },
    {
     "name": "stdout",
     "output_type": "stream",
     "text": [
      "you have come out of primary loop successfully\n"
     ]
    }
   ],
   "source": [
    "# creating node\n",
    "class Node:\n",
    "    def __init__(self, data):\n",
    "        self.prev = None\n",
    "        self.data = data\n",
    "        self.next = None\n",
    "        \n",
    "# Doubly linked list operations\n",
    "class DoublyLinkedList:\n",
    "    def __init__(self):\n",
    "        self.head = None\n",
    "        \n",
    "    # displaying the linked list\n",
    "    def display(self):\n",
    "        if self.head == None:\n",
    "            print(\"Doubly Linked list does not exist\")\n",
    "        else:\n",
    "            n = self.head\n",
    "            while n is not None:\n",
    "                print(\"<--\",n.data,\"-->\",end=\" \")\n",
    "                n = n.next\n",
    "            print()\n",
    "        \n",
    "    # add node\n",
    "    def insert(self):\n",
    "        while True:\n",
    "            print(\"a. at the beggining of linked list\")\n",
    "            print(\"b. at the end of linked list\")\n",
    "            print(\"c. in between the linked list\")\n",
    "            print(\"press any key to come back to main menu\")\n",
    "            option = input()\n",
    "            if option != 'a' and option != 'b' and option != 'c':\n",
    "                print('you have come out of secondary loop successfully')\n",
    "                return\n",
    "            print(\"Enter the value to be added: \")\n",
    "            value = int(input())\n",
    "            new_node = Node(value)\n",
    "            \n",
    "            # creating the LL\n",
    "            if self.head == None:\n",
    "                self.head = new_node\n",
    "                print('doubly linked list created successfully!')\n",
    "                \n",
    "            # inserting at the beggining\n",
    "            elif option == 'a':\n",
    "                self.head.prev = new_node\n",
    "                new_node.next = self.head\n",
    "                self.head = new_node\n",
    "                self.display()\n",
    "                print('Added at START')\n",
    "                \n",
    "            # inserting at the end\n",
    "            elif option == 'b':\n",
    "                i = self.head\n",
    "                while i.next is not None:\n",
    "                    i = i.next\n",
    "                i.next = new_node\n",
    "                new_node.prev = i\n",
    "                self.display()\n",
    "                print('Added at END')\n",
    "                \n",
    "            # inserting in between\n",
    "            elif option == 'c':\n",
    "                self.display()\n",
    "                print('a. add after the Element')\n",
    "                print('b. add before the Element')\n",
    "                place = input()\n",
    "                \n",
    "                # inserting after\n",
    "                if place == 'a':\n",
    "                    print('Enter element after which you want to add Node: ')\n",
    "                    element = int(input())\n",
    "                    i = self.head\n",
    "                    while i.next is not None:\n",
    "                        if i.data == element:\n",
    "                            break\n",
    "                        i = i.next\n",
    "                    new_node.next = i.next\n",
    "                    new_node.prev = i\n",
    "                    if i.next is not None:\n",
    "                        i.next.prev = new_node\n",
    "                    i.next = new_node\n",
    "                    self.display()\n",
    "                    print('added after '+str(element)+' successfully!')\n",
    "                    \n",
    "                # inserting before\n",
    "                elif place == 'b':\n",
    "                    print('Enter element before which you want to add Node: ')\n",
    "                    element = int(input())\n",
    "                    i = self.head\n",
    "                    if i.data == element:\n",
    "                        new_node.next = self.head\n",
    "                        self.head = new_node\n",
    "                    else:\n",
    "                        while i.data is not None:\n",
    "                            if i.data == element:\n",
    "                                break\n",
    "                            i = i.next\n",
    "                        new_node.next = i\n",
    "                        new_node.prev = i.prev\n",
    "                        if i.prev is not None:\n",
    "                            i.prev.next = new_node\n",
    "                        i.prev = new_node\n",
    "                    self.display()\n",
    "                    print('added before '+str(element)+' successfully!')\n",
    "                else:\n",
    "                    print(\"--option out of range--\")\n",
    "                    return\n",
    "            else:\n",
    "                print(\"----\")\n",
    "                return\n",
    "            \n",
    "    \n",
    "    # delete node\n",
    "    def delete(self):\n",
    "        while True:\n",
    "            if self.head == None:\n",
    "                print(\"doubly Linked list does not exist\")\n",
    "                return\n",
    "            print(\"a. delete first node\")\n",
    "            print(\"b. delete last node\")\n",
    "            print(\"c. remove specific node\")\n",
    "            print(\"press any key to come back to main menu\")  \n",
    "            option = input()\n",
    "            \n",
    "            # deleting first element\n",
    "            if option == 'a':\n",
    "                self.head = self.head.next\n",
    "                self.head.prev = None\n",
    "                self.display()\n",
    "                print('Value deleted from BEGINNING successfully!')\n",
    "                \n",
    "            # deleting last element\n",
    "            elif option == 'b':\n",
    "                i = self.head\n",
    "                if i.next == None:\n",
    "                    self.head = None\n",
    "                    print(\"LL is now empty\")\n",
    "                    return\n",
    "                while i.next != None:\n",
    "                    i = i.next\n",
    "                i.prev.next = None\n",
    "                self.display()\n",
    "                print('Value deleted from END successfully!')\n",
    "                \n",
    "            # deleting user defined element\n",
    "            elif option == 'c':\n",
    "                self.display()\n",
    "                print(\"Enter the value to be deleted: \")\n",
    "                value = int(input())\n",
    "                i = self.head\n",
    "                while i.next is not None:\n",
    "                    if i.data == value:\n",
    "                        break\n",
    "                    i = i.next\n",
    "                if i is None:\n",
    "                    print('No node exists as ' + str(value))\n",
    "                else:\n",
    "                    if i.next is not None:\n",
    "                        i.next.prev = i.prev\n",
    "                    if i.prev is not None:\n",
    "                        i.prev.next = i.next\n",
    "                    if i.prev is None:\n",
    "                        self.head = i.next\n",
    "                self.display()\n",
    "                print('value deleted successfully')\n",
    "            else:\n",
    "                print('you have come out of secondary loop successfully')\n",
    "                return\n",
    "    \n",
    "    \n",
    "obj = DoublyLinkedList()\n",
    "while True:\n",
    "    print('1. Add a Node')\n",
    "    print('2. Remove Node')\n",
    "    print('3. Display LinkedList')\n",
    "    print('any key to exit')\n",
    "    print('Select operation to perform: ')\n",
    "    n = input()\n",
    "    if n == '1':\n",
    "        print('keep inserting the elements until option is out of range')\n",
    "        obj.insert()\n",
    "    elif n == '2':\n",
    "        print('keep deleting the elements until option is out of range')\n",
    "        obj.delete()\n",
    "    elif n == '3':\n",
    "        obj.display()\n",
    "    else:\n",
    "        print('you have come out of primary loop successfully')\n",
    "        break"
   ]
  }
 ],
 "metadata": {
  "kernelspec": {
   "display_name": "Python 3",
   "language": "python",
   "name": "python3"
  },
  "language_info": {
   "codemirror_mode": {
    "name": "ipython",
    "version": 3
   },
   "file_extension": ".py",
   "mimetype": "text/x-python",
   "name": "python",
   "nbconvert_exporter": "python",
   "pygments_lexer": "ipython3",
   "version": "3.8.8"
  }
 },
 "nbformat": 4,
 "nbformat_minor": 5
}

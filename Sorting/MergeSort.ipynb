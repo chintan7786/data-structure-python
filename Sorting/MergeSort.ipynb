{
 "cells": [
  {
   "cell_type": "code",
   "execution_count": 12,
   "id": "c967358d-fc99-4799-88c7-11d7e47fd36f",
   "metadata": {},
   "outputs": [
    {
     "name": "stdout",
     "output_type": "stream",
     "text": [
      "[0, 1, 4, 6, 9, 17, 40, 41, 55, 73, 87, 89]\n"
     ]
    }
   ],
   "source": [
    "def merge_sort(merge_list):\n",
    "    if len(merge_list) > 1:\n",
    "        left_list = merge_list[:len(merge_list)//2]\n",
    "        right_list = merge_list[len(merge_list)//2:]\n",
    "        \n",
    "        merge_sort(left_list)\n",
    "        merge_sort(right_list)\n",
    "        \n",
    "        i = j = k = 0\n",
    "        while i < len(left_list) and j < len(right_list):\n",
    "            if left_list[i] < right_list[j]:\n",
    "                merge_list[k] = left_list[i]\n",
    "                i+=1\n",
    "            else:\n",
    "                merge_list[k] = right_list[j]\n",
    "                j+=1\n",
    "            k+=1\n",
    "        \n",
    "        while i < len(left_list):\n",
    "            merge_list[k] = left_list[i]\n",
    "            i+=1\n",
    "            k+=1\n",
    "           \n",
    "        while j < len(right_list):\n",
    "            merge_list[k] = right_list[j]\n",
    "            j+=1\n",
    "            k+=1\n",
    "            \n",
    "\n",
    "merge_list = [9, 87, 1, 55, 89, 17, 6, 41, 40, 73, 0, 4]\n",
    "merge_sort(merge_list)\n",
    "print(merge_list)"
   ]
  },
  {
   "cell_type": "code",
   "execution_count": null,
   "id": "d640062d-1cec-46e8-b8d2-f388cf3dd127",
   "metadata": {},
   "outputs": [],
   "source": []
  }
 ],
 "metadata": {
  "kernelspec": {
   "display_name": "Python 3",
   "language": "python",
   "name": "python3"
  },
  "language_info": {
   "codemirror_mode": {
    "name": "ipython",
    "version": 3
   },
   "file_extension": ".py",
   "mimetype": "text/x-python",
   "name": "python",
   "nbconvert_exporter": "python",
   "pygments_lexer": "ipython3",
   "version": "3.8.8"
  }
 },
 "nbformat": 4,
 "nbformat_minor": 5
}

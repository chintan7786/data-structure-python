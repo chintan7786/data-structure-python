{
 "cells": [
  {
   "cell_type": "code",
   "execution_count": 7,
   "id": "f52ffba3-e615-4fda-9aa4-76ad5a898228",
   "metadata": {},
   "outputs": [
    {
     "name": "stdout",
     "output_type": "stream",
     "text": [
      "1\n",
      "2\n",
      "3\n",
      "4\n",
      "5\n",
      "6\n",
      "7\n",
      "8\n",
      "9\n",
      "10\n",
      "11\n",
      "12\n",
      "13\n",
      "14\n",
      "15\n",
      "16\n",
      "17\n",
      "18\n",
      "19\n",
      "[0, 1, 4, 6, 9, 17, 40, 41, 55, 73, 87, 89]\n"
     ]
    }
   ],
   "source": [
    "def quick_sort(elements, start, end):\n",
    "    if start < end:\n",
    "        pi = partition(elements, start, end)\n",
    "        quick_sort(elements, start, pi-1)\n",
    "        quick_sort(elements, pi+1, end)\n",
    "\n",
    "def partition(elements, start, end):\n",
    "    pivot_index = start\n",
    "    pivot = elements[pivot_index]\n",
    "\n",
    "    while start < end:\n",
    "        while start < len(elements) and elements[start] <= pivot:\n",
    "            start+=1\n",
    "\n",
    "        while elements[end] > pivot:\n",
    "            end-=1\n",
    "\n",
    "        if start < end:\n",
    "            elements[start], elements[end] = elements[end], elements[start]\n",
    "\n",
    "    if pivot_index != end:\n",
    "        elements[pivot_index], elements[end] = elements[end], elements[pivot_index] \n",
    "\n",
    "    return end\n",
    "\n",
    "quick_list = [9, 87, 1, 55, 89, 17, 6, 41, 40, 73, 0, 4]\n",
    "quick_sort(quick_list, 0, len(quick_list)-1)\n",
    "print(quick_list)"
   ]
  },
  {
   "cell_type": "code",
   "execution_count": null,
   "id": "4afd67fa-8fa3-40a5-8b6b-f9b807bffc5d",
   "metadata": {},
   "outputs": [],
   "source": []
  }
 ],
 "metadata": {
  "kernelspec": {
   "display_name": "Python 3",
   "language": "python",
   "name": "python3"
  },
  "language_info": {
   "codemirror_mode": {
    "name": "ipython",
    "version": 3
   },
   "file_extension": ".py",
   "mimetype": "text/x-python",
   "name": "python",
   "nbconvert_exporter": "python",
   "pygments_lexer": "ipython3",
   "version": "3.8.8"
  }
 },
 "nbformat": 4,
 "nbformat_minor": 5
}

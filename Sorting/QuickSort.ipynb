{
 "cells": [
  {
   "cell_type": "code",
   "execution_count": 10,
   "id": "f52ffba3-e615-4fda-9aa4-76ad5a898228",
   "metadata": {},
   "outputs": [
    {
     "name": "stdout",
     "output_type": "stream",
     "text": [
      "[0, 1, 4, 6, 9, 17, 40, 41, 55, 73, 87, 89]\n"
     ]
    }
   ],
   "source": [
    "def quick_sort(quick_list, start, end):\n",
    "    if start < end:\n",
    "        pi = partition(quick_list, start, end)\n",
    "        quick_sort(quick_list, start, pi-1)\n",
    "        quick_sort(quick_list, pi+1, end)\n",
    "\n",
    "def partition(quick_list, start, end):\n",
    "    pivot_index = start\n",
    "    pivot = quick_list[pivot_index]\n",
    "\n",
    "    while start < end:\n",
    "        while start < len(quick_list) and quick_list[start] <= pivot:\n",
    "            start+=1\n",
    "\n",
    "        while quick_list[end] > pivot:\n",
    "            end-=1\n",
    "\n",
    "        if start < end:\n",
    "            quick_list[start], quick_list[end] = quick_list[end], quick_list[start]\n",
    "\n",
    "    if pivot_index != end:\n",
    "        quick_list[pivot_index], quick_list[end] = quick_list[end], quick_list[pivot_index] \n",
    "\n",
    "    return end\n",
    "\n",
    "quick_list = [9, 87, 1, 55, 89, 17, 6, 41, 40, 73, 0, 4]\n",
    "quick_sort(quick_list, 0, len(quick_list)-1)\n",
    "print(quick_list)"
   ]
  },
  {
   "cell_type": "code",
   "execution_count": null,
   "id": "4afd67fa-8fa3-40a5-8b6b-f9b807bffc5d",
   "metadata": {},
   "outputs": [],
   "source": []
  }
 ],
 "metadata": {
  "kernelspec": {
   "display_name": "Python 3",
   "language": "python",
   "name": "python3"
  },
  "language_info": {
   "codemirror_mode": {
    "name": "ipython",
    "version": 3
   },
   "file_extension": ".py",
   "mimetype": "text/x-python",
   "name": "python",
   "nbconvert_exporter": "python",
   "pygments_lexer": "ipython3",
   "version": "3.8.8"
  }
 },
 "nbformat": 4,
 "nbformat_minor": 5
}

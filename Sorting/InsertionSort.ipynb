{
 "cells": [
  {
   "cell_type": "markdown",
   "id": "e26f3f59-1cb6-46b3-8f22-9012f52287bd",
   "metadata": {},
   "source": [
    "# Insertion Sort"
   ]
  },
  {
   "cell_type": "markdown",
   "id": "4614036d-ac82-4228-986a-8dfc238b5551",
   "metadata": {},
   "source": [
    "### this algorithm is prefered only when list is small"
   ]
  },
  {
   "cell_type": "code",
   "execution_count": 3,
   "id": "790732f8-1562-4343-9e99-cc6dbe9de100",
   "metadata": {},
   "outputs": [
    {
     "name": "stdout",
     "output_type": "stream",
     "text": [
      "[0, 1, 4, 6, 9, 17, 40, 41, 55, 73, 87, 89]\n"
     ]
    }
   ],
   "source": [
    "\n",
    "def insertion_sort(insertion_list):\n",
    "    for i in range(1, len(insertion_list)):\n",
    "        anchor = insertion_list[i]\n",
    "        j = i - 1\n",
    "        while j>=0 and anchor < insertion_list[j]:\n",
    "            insertion_list[j+1] = insertion_list[j]\n",
    "            j = j - 1\n",
    "        insertion_list[j+1] = anchor\n",
    "\n",
    "\n",
    "insertion_list = [9, 87, 1, 55, 89, 17, 6, 41, 40, 73, 0, 4]\n",
    "\n",
    "insertion_sort(insertion_list)\n",
    "print(insertion_list)"
   ]
  },
  {
   "cell_type": "code",
   "execution_count": null,
   "id": "934958da-8794-469f-a171-53670572bcd9",
   "metadata": {},
   "outputs": [],
   "source": []
  }
 ],
 "metadata": {
  "kernelspec": {
   "display_name": "Python 3",
   "language": "python",
   "name": "python3"
  },
  "language_info": {
   "codemirror_mode": {
    "name": "ipython",
    "version": 3
   },
   "file_extension": ".py",
   "mimetype": "text/x-python",
   "name": "python",
   "nbconvert_exporter": "python",
   "pygments_lexer": "ipython3",
   "version": "3.8.8"
  }
 },
 "nbformat": 4,
 "nbformat_minor": 5
}

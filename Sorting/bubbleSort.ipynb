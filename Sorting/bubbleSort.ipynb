{
 "cells": [
  {
   "cell_type": "markdown",
   "id": "75790080-f300-40cf-b910-ee065e1f7883",
   "metadata": {},
   "source": [
    "### Bubble sort\n",
    "\n",
    "It has Complexity of O(n2)"
   ]
  },
  {
   "cell_type": "code",
   "execution_count": 8,
   "id": "cdabe732-60c8-40c7-80e5-eb797ade4f84",
   "metadata": {},
   "outputs": [
    {
     "name": "stdin",
     "output_type": "stream",
     "text": [
      " 6 5 7 3 8 2\n"
     ]
    },
    {
     "name": "stdout",
     "output_type": "stream",
     "text": [
      "[6, 5, 7, 3, 8, 2]\n",
      "[2, 3, 5, 6, 7, 8]\n"
     ]
    }
   ],
   "source": [
    "lst = list(map(int, input().split()))\n",
    "print(lst)\n",
    "for i in range(len(lst)-1):\n",
    "    for j in range(len(lst)-i-1):\n",
    "        if lst[j] > lst[j+1]:\n",
    "            lst[j], lst[j+1] = lst[j+1], lst[j]\n",
    "            \n",
    "print(lst)"
   ]
  }
 ],
 "metadata": {
  "kernelspec": {
   "display_name": "Python 3",
   "language": "python",
   "name": "python3"
  },
  "language_info": {
   "codemirror_mode": {
    "name": "ipython",
    "version": 3
   },
   "file_extension": ".py",
   "mimetype": "text/x-python",
   "name": "python",
   "nbconvert_exporter": "python",
   "pygments_lexer": "ipython3",
   "version": "3.8.8"
  }
 },
 "nbformat": 4,
 "nbformat_minor": 5
}

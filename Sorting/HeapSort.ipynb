{
 "cells": [
  {
   "cell_type": "markdown",
   "id": "207009a3-feca-4307-8d96-c1b6aaf8db50",
   "metadata": {},
   "source": [
    "# Heap Sort"
   ]
  },
  {
   "cell_type": "code",
   "execution_count": 3,
   "id": "7f31cb12-5b98-41e9-afbc-e764ac48de0a",
   "metadata": {},
   "outputs": [
    {
     "name": "stdout",
     "output_type": "stream",
     "text": [
      "[0, 1, 4, 6, 9, 17, 40, 41, 55, 73, 74, 87, 89]\n"
     ]
    }
   ],
   "source": [
    "def swap(lst, i, j):\n",
    "    lst[i], lst[j] = lst[j], lst[i]\n",
    "\n",
    "def shift_down(lst, i, upper):\n",
    "    while (True):\n",
    "        left, right= i*2+1, i*2+2\n",
    "        if max(left,right) < upper:\n",
    "            if lst[i] >= max(lst[left], lst[right]): break\n",
    "            elif lst[left] > lst[right]:\n",
    "                swap(lst, i, left)\n",
    "                i = left\n",
    "            else:\n",
    "                swap(lst, i, right)\n",
    "                i = right\n",
    "        elif left< upper:\n",
    "            if lst[left] > lst[i]:\n",
    "                swap(lst, i, left)\n",
    "                i = left\n",
    "            else: break\n",
    "                \n",
    "        elif right< upper:\n",
    "            if lst[right] > lst[i]:\n",
    "                swap(lst, i, right)\n",
    "                i = right\n",
    "            else: break\n",
    "        \n",
    "        else: break\n",
    "    \n",
    "    \n",
    "def heap_sort(lst):\n",
    "    for j in range((len(lst)-2)//2 , -1, -1):\n",
    "        shift_down(lst, j, len(lst))\n",
    "        \n",
    "    for end in range(len(lst)-1, 0, -1):\n",
    "        swap(lst, 0, end)\n",
    "        shift_down(lst, 0, end)\n",
    "\n",
    "lst = [9, 87, 1, 74,55, 89, 17, 6, 41, 40, 73, 0, 4]\n",
    "heap_sort(lst)\n",
    "print(lst)"
   ]
  },
  {
   "cell_type": "code",
   "execution_count": null,
   "id": "bdb84aa3-a9df-4ca8-a947-1df13cf4a946",
   "metadata": {},
   "outputs": [],
   "source": []
  }
 ],
 "metadata": {
  "kernelspec": {
   "display_name": "Python 3",
   "language": "python",
   "name": "python3"
  },
  "language_info": {
   "codemirror_mode": {
    "name": "ipython",
    "version": 3
   },
   "file_extension": ".py",
   "mimetype": "text/x-python",
   "name": "python",
   "nbconvert_exporter": "python",
   "pygments_lexer": "ipython3",
   "version": "3.8.8"
  }
 },
 "nbformat": 4,
 "nbformat_minor": 5
}

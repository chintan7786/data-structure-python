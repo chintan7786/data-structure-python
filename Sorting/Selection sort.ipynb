{
 "cells": [
  {
   "cell_type": "markdown",
   "id": "2b88a41a-7443-4d91-8a2c-78f2fa8440d5",
   "metadata": {},
   "source": [
    "# Selection sort"
   ]
  },
  {
   "cell_type": "markdown",
   "id": "28682fca-cb54-46d9-a6bc-473976e5ccab",
   "metadata": {},
   "source": [
    "### Time complexity\n",
    "log(n*n)"
   ]
  },
  {
   "cell_type": "code",
   "execution_count": 2,
   "id": "a84c2510-299c-4957-b8b6-b89b6801e44c",
   "metadata": {},
   "outputs": [
    {
     "name": "stdout",
     "output_type": "stream",
     "text": [
      "[0, 1, 4, 6, 9, 17, 40, 41, 55, 73, 87, 89]\n"
     ]
    }
   ],
   "source": [
    "def selection_sort(array, size):\n",
    "    for ind in range(size):\n",
    "        min_index = ind\n",
    " \n",
    "        for j in range(ind + 1, size):\n",
    "            # select the minimum element in every iteration\n",
    "            if array[j] < array[min_index]:\n",
    "                min_index = j\n",
    "        array[ind], array[min_index] = array[min_index], array[ind]\n",
    "\n",
    "        \n",
    "list1 = [9, 87, 1, 55, 89, 17, 6, 41, 40, 73, 0, 4]\n",
    "selection_sort(list1, len(list1))\n",
    "print(list1)"
   ]
  },
  {
   "cell_type": "code",
   "execution_count": null,
   "id": "2655a31a-1592-4cee-bab3-f4dca3eef395",
   "metadata": {},
   "outputs": [],
   "source": []
  }
 ],
 "metadata": {
  "kernelspec": {
   "display_name": "Python 3",
   "language": "python",
   "name": "python3"
  },
  "language_info": {
   "codemirror_mode": {
    "name": "ipython",
    "version": 3
   },
   "file_extension": ".py",
   "mimetype": "text/x-python",
   "name": "python",
   "nbconvert_exporter": "python",
   "pygments_lexer": "ipython3",
   "version": "3.8.8"
  }
 },
 "nbformat": 4,
 "nbformat_minor": 5
}

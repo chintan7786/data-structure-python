{
 "cells": [
  {
   "cell_type": "markdown",
   "id": "a47085b1-3d4e-429d-90ba-3e08418958eb",
   "metadata": {},
   "source": [
    "# Stack"
   ]
  },
  {
   "cell_type": "code",
   "execution_count": 10,
   "id": "7188d123-db5e-42ff-871c-611593ad5eba",
   "metadata": {},
   "outputs": [
    {
     "name": "stdout",
     "output_type": "stream",
     "text": [
      "1. insert into stack\n",
      "2. delete from stack\n",
      "3. display stack\n",
      "any key to exit\n",
      "Select option: \n"
     ]
    },
    {
     "name": "stdin",
     "output_type": "stream",
     "text": [
      " 1\n"
     ]
    },
    {
     "name": "stdout",
     "output_type": "stream",
     "text": [
      "enter the value to be inserted in stack:\n"
     ]
    },
    {
     "name": "stdin",
     "output_type": "stream",
     "text": [
      " 3\n"
     ]
    },
    {
     "name": "stdout",
     "output_type": "stream",
     "text": [
      "added successfully!\n",
      "Select option: \n"
     ]
    },
    {
     "name": "stdin",
     "output_type": "stream",
     "text": [
      " 1\n"
     ]
    },
    {
     "name": "stdout",
     "output_type": "stream",
     "text": [
      "enter the value to be inserted in stack:\n"
     ]
    },
    {
     "name": "stdin",
     "output_type": "stream",
     "text": [
      " 6\n"
     ]
    },
    {
     "name": "stdout",
     "output_type": "stream",
     "text": [
      "added successfully!\n",
      "Select option: \n"
     ]
    },
    {
     "name": "stdin",
     "output_type": "stream",
     "text": [
      " 1\n"
     ]
    },
    {
     "name": "stdout",
     "output_type": "stream",
     "text": [
      "enter the value to be inserted in stack:\n"
     ]
    },
    {
     "name": "stdin",
     "output_type": "stream",
     "text": [
      " 2\n"
     ]
    },
    {
     "name": "stdout",
     "output_type": "stream",
     "text": [
      "added successfully!\n",
      "Select option: \n"
     ]
    },
    {
     "name": "stdin",
     "output_type": "stream",
     "text": [
      " 1\n"
     ]
    },
    {
     "name": "stdout",
     "output_type": "stream",
     "text": [
      "enter the value to be inserted in stack:\n"
     ]
    },
    {
     "name": "stdin",
     "output_type": "stream",
     "text": [
      " 4\n"
     ]
    },
    {
     "name": "stdout",
     "output_type": "stream",
     "text": [
      "added successfully!\n",
      "Select option: \n"
     ]
    },
    {
     "name": "stdin",
     "output_type": "stream",
     "text": [
      " 3\n"
     ]
    },
    {
     "name": "stdout",
     "output_type": "stream",
     "text": [
      "| 3 |\n",
      "| 6 |\n",
      "| 2 |\n",
      "| 4 |\n",
      "-----\n",
      "Select option: \n"
     ]
    },
    {
     "name": "stdin",
     "output_type": "stream",
     "text": [
      " 2\n"
     ]
    },
    {
     "name": "stdout",
     "output_type": "stream",
     "text": [
      "deleted successfully!\n",
      "Select option: \n"
     ]
    },
    {
     "name": "stdin",
     "output_type": "stream",
     "text": [
      " 2\n"
     ]
    },
    {
     "name": "stdout",
     "output_type": "stream",
     "text": [
      "deleted successfully!\n",
      "Select option: \n"
     ]
    },
    {
     "name": "stdin",
     "output_type": "stream",
     "text": [
      " 3\n"
     ]
    },
    {
     "name": "stdout",
     "output_type": "stream",
     "text": [
      "| 3 |\n",
      "| 6 |\n",
      "-----\n",
      "Select option: \n"
     ]
    },
    {
     "name": "stdin",
     "output_type": "stream",
     "text": [
      " 2\n"
     ]
    },
    {
     "name": "stdout",
     "output_type": "stream",
     "text": [
      "deleted successfully!\n",
      "Select option: \n"
     ]
    },
    {
     "name": "stdin",
     "output_type": "stream",
     "text": [
      " 3\n"
     ]
    },
    {
     "name": "stdout",
     "output_type": "stream",
     "text": [
      "| 3 |\n",
      "-----\n",
      "Select option: \n"
     ]
    },
    {
     "name": "stdin",
     "output_type": "stream",
     "text": [
      " 5\n"
     ]
    },
    {
     "name": "stdout",
     "output_type": "stream",
     "text": [
      "you have come out successfully\n"
     ]
    }
   ],
   "source": [
    "# Stack using List\n",
    "class Stack:\n",
    "    def __init__(self):\n",
    "        self.stack = []\n",
    "        \n",
    "    def insert(self, x):\n",
    "        self.stack.append(x)\n",
    "        print('added successfully!')\n",
    "\n",
    "    def delete(self):\n",
    "        if not self.stack:\n",
    "            print('stack is empty cannot pop the value')\n",
    "        else:\n",
    "            self.stack.pop()\n",
    "            print('deleted successfully!')\n",
    "        \n",
    "    def display(self):\n",
    "        if self.stack:\n",
    "            for i in self.stack: \n",
    "                print('| '+str(i)+' |')\n",
    "            print('-----')\n",
    "        else:\n",
    "            print('stack is empty')\n",
    "        \n",
    "print('1. insert into stack')\n",
    "print('2. delete from stack')\n",
    "print('3. display stack')\n",
    "print('any key to exit')\n",
    "obj = Stack()\n",
    "while True:\n",
    "    print('Select option: ')\n",
    "    n = input()\n",
    "    if n == '1':\n",
    "        print('enter the value to be inserted in stack:')\n",
    "        x = int(input())\n",
    "        obj.insert(x)\n",
    "    elif n == '2':\n",
    "        obj.delete()\n",
    "    elif n == '3':\n",
    "        obj.display()\n",
    "    else:\n",
    "        print('you have come out successfully')\n",
    "        break"
   ]
  },
  {
   "cell_type": "code",
   "execution_count": 14,
   "id": "f20f02a8-89c7-47f4-a0c5-880660e1ede3",
   "metadata": {},
   "outputs": [
    {
     "name": "stdout",
     "output_type": "stream",
     "text": [
      "STACK USING COLLECTIONS MODULE\n",
      "1. insert into stack\n",
      "2. delete from stack\n",
      "3. display stack\n",
      "any key to exit\n",
      "Select option: \n"
     ]
    },
    {
     "name": "stdin",
     "output_type": "stream",
     "text": [
      " 1\n"
     ]
    },
    {
     "name": "stdout",
     "output_type": "stream",
     "text": [
      "enter the value to be inserted in stack:\n"
     ]
    },
    {
     "name": "stdin",
     "output_type": "stream",
     "text": [
      " 2\n"
     ]
    },
    {
     "name": "stdout",
     "output_type": "stream",
     "text": [
      "value pushed successfully\n",
      "Select option: \n"
     ]
    },
    {
     "name": "stdin",
     "output_type": "stream",
     "text": [
      " 1\n"
     ]
    },
    {
     "name": "stdout",
     "output_type": "stream",
     "text": [
      "enter the value to be inserted in stack:\n"
     ]
    },
    {
     "name": "stdin",
     "output_type": "stream",
     "text": [
      " 5\n"
     ]
    },
    {
     "name": "stdout",
     "output_type": "stream",
     "text": [
      "value pushed successfully\n",
      "Select option: \n"
     ]
    },
    {
     "name": "stdin",
     "output_type": "stream",
     "text": [
      " 1\n"
     ]
    },
    {
     "name": "stdout",
     "output_type": "stream",
     "text": [
      "enter the value to be inserted in stack:\n"
     ]
    },
    {
     "name": "stdin",
     "output_type": "stream",
     "text": [
      " 3\n"
     ]
    },
    {
     "name": "stdout",
     "output_type": "stream",
     "text": [
      "value pushed successfully\n",
      "Select option: \n"
     ]
    },
    {
     "name": "stdin",
     "output_type": "stream",
     "text": [
      " 3\n"
     ]
    },
    {
     "name": "stdout",
     "output_type": "stream",
     "text": [
      "deque([2, 5, 3])\n",
      "Select option: \n"
     ]
    },
    {
     "name": "stdin",
     "output_type": "stream",
     "text": [
      " 2\n"
     ]
    },
    {
     "name": "stdout",
     "output_type": "stream",
     "text": [
      "value poped successfully\n",
      "Select option: \n"
     ]
    },
    {
     "name": "stdin",
     "output_type": "stream",
     "text": [
      " 3\n"
     ]
    },
    {
     "name": "stdout",
     "output_type": "stream",
     "text": [
      "deque([2, 5])\n",
      "Select option: \n"
     ]
    },
    {
     "name": "stdin",
     "output_type": "stream",
     "text": [
      " r\n"
     ]
    },
    {
     "name": "stdout",
     "output_type": "stream",
     "text": [
      "you have come out successfully\n"
     ]
    }
   ],
   "source": [
    "# using modules\n",
    "import collections\n",
    "class StackModule:\n",
    "    def __init__(self):\n",
    "        self.stack = collections.deque()\n",
    "        \n",
    "    def insert(self, x):\n",
    "        self.stack.append(x)\n",
    "        print('value pushed successfully')\n",
    "        \n",
    "    def delete(self):\n",
    "        if not self.stack:\n",
    "            print('cannot pop more elements')\n",
    "        else:\n",
    "            self.stack.pop()\n",
    "            print('value poped successfully')\n",
    "        \n",
    "    def display(self):\n",
    "        if not self.stack:\n",
    "            print('stack is empty')\n",
    "        else:\n",
    "            print(self.stack)\n",
    "        \n",
    "        \n",
    "obj = StackModule()\n",
    "print('STACK USING COLLECTIONS MODULE')\n",
    "print('1. insert into stack')\n",
    "print('2. delete from stack')\n",
    "print('3. display stack')\n",
    "print('any key to exit')\n",
    "while True:\n",
    "    print('Select option: ')\n",
    "    n = input()\n",
    "    if n == '1':\n",
    "        print('enter the value to be inserted in stack:')\n",
    "        x = int(input())\n",
    "        obj.insert(x)\n",
    "    elif n == '2':\n",
    "        obj.delete()\n",
    "    elif n == '3':\n",
    "        obj.display()\n",
    "    else:\n",
    "        print('you have come out successfully')\n",
    "        break"
   ]
  }
 ],
 "metadata": {
  "kernelspec": {
   "display_name": "Python 3",
   "language": "python",
   "name": "python3"
  },
  "language_info": {
   "codemirror_mode": {
    "name": "ipython",
    "version": 3
   },
   "file_extension": ".py",
   "mimetype": "text/x-python",
   "name": "python",
   "nbconvert_exporter": "python",
   "pygments_lexer": "ipython3",
   "version": "3.8.8"
  }
 },
 "nbformat": 4,
 "nbformat_minor": 5
}

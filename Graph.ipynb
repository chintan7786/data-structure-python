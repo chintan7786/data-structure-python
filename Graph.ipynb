{
 "cells": [
  {
   "cell_type": "code",
   "execution_count": 6,
   "id": "32874695-28ad-4d04-8e68-06686ee8d713",
   "metadata": {},
   "outputs": [
    {
     "name": "stdout",
     "output_type": "stream",
     "text": [
      "Graph Dict: {'Mumbai': ['New York', 'Japan'], 'Japan': ['London'], 'New York': ['Paris', 'Canada'], 'Paris': ['London', 'Dubai'], 'Canada': ['London', 'New York'], 'Dubai': ['London', 'Mumbai']}\n",
      "Shortest path is:  ['Canada', 'New York', 'Paris', 'Dubai', 'Mumbai']\n"
     ]
    }
   ],
   "source": [
    "class Graph:\n",
    "    def __init__(self, edges):\n",
    "        self.edges = edges\n",
    "        self.graph_dict = {}\n",
    "        for start, end in edges:\n",
    "            if start in self.graph_dict:\n",
    "                self.graph_dict[start].append(end)\n",
    "            else:\n",
    "                self.graph_dict[start] = [end]\n",
    "        print(\"Graph Dict:\", self.graph_dict)\n",
    "        \n",
    "    def shortest_path(self, start, end, path=[]):\n",
    "        path = path + [start]\n",
    "        \n",
    "        if start == end:\n",
    "            return path\n",
    "        \n",
    "        if start not in self.graph_dict:\n",
    "            return \n",
    "        \n",
    "        shortest_path = None\n",
    "        for node in self.graph_dict[start]:\n",
    "            if node not in path:\n",
    "                sp = self.shortest_path(node, end, path)\n",
    "                if sp:\n",
    "                    if shortest_path is None or len(sp) < len(shortest_path):\n",
    "                        shortest_path = sp\n",
    "\n",
    "        return shortest_path\n",
    "    \n",
    "routes = [\n",
    "        (\"Mumbai\",\"New York\"),\n",
    "        (\"Mumbai\", \"Japan\"),\n",
    "        (\"Japan\", \"London\"),\n",
    "        (\"New York\",\"Paris\"),\n",
    "        (\"New York\",\"Canada\"),\n",
    "        (\"Paris\",\"London\"),\n",
    "        (\"Paris\", \"Dubai\"),\n",
    "        (\"Canada\", \"London\"),\n",
    "        (\"Dubai\", \"London\"),\n",
    "        (\"Canada\", \"New York\"),\n",
    "        (\"Dubai\", \"Mumbai\")\n",
    "    ]\n",
    "\n",
    "route_graph = Graph(routes)\n",
    "\n",
    "start = \"Canada\"\n",
    "end = \"Mumbai\"\n",
    "\n",
    "print(\"Shortest path is: \", route_graph.shortest_path(start,end))"
   ]
  },
  {
   "cell_type": "code",
   "execution_count": null,
   "id": "2fa14996-1249-45b3-8691-d8c17f1a120b",
   "metadata": {},
   "outputs": [],
   "source": []
  }
 ],
 "metadata": {
  "kernelspec": {
   "display_name": "Python 3",
   "language": "python",
   "name": "python3"
  },
  "language_info": {
   "codemirror_mode": {
    "name": "ipython",
    "version": 3
   },
   "file_extension": ".py",
   "mimetype": "text/x-python",
   "name": "python",
   "nbconvert_exporter": "python",
   "pygments_lexer": "ipython3",
   "version": "3.8.8"
  }
 },
 "nbformat": 4,
 "nbformat_minor": 5
}
